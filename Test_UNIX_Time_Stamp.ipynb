{
  "nbformat": 4,
  "nbformat_minor": 0,
  "metadata": {
    "colab": {
      "provenance": [],
      "authorship_tag": "ABX9TyMXXkmzjeVVKbHS3/jf5ZCf",
      "include_colab_link": true
    },
    "kernelspec": {
      "name": "python3",
      "display_name": "Python 3"
    },
    "language_info": {
      "name": "python"
    }
  },
  "cells": [
    {
      "cell_type": "markdown",
      "metadata": {
        "id": "view-in-github",
        "colab_type": "text"
      },
      "source": [
        "<a href=\"https://colab.research.google.com/github/alvinadar/UnixTimeStamp/blob/main/Test_UNIX_Time_Stamp.ipynb\" target=\"_parent\"><img src=\"https://colab.research.google.com/assets/colab-badge.svg\" alt=\"Open In Colab\"/></a>"
      ]
    },
    {
      "cell_type": "code",
      "execution_count": 2,
      "metadata": {
        "id": "41qsi-RaA7It",
        "outputId": "9af1e8aa-d05e-4c89-fb60-68a8b2818f1d",
        "colab": {
          "base_uri": "https://localhost:8080/"
        }
      },
      "outputs": [
        {
          "output_type": "stream",
          "name": "stdout",
          "text": [
            "Current Unix Timestamp: 1729078505\n"
          ]
        }
      ],
      "source": [
        "import time\n",
        "\n",
        "# Get the current time in seconds since the epoch\n",
        "unix_timestamp = int(time.time())\n",
        "\n",
        "print(\"Current Unix Timestamp:\", unix_timestamp)\n"
      ]
    }
  ]
}